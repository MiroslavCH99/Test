{
 "cells": [
  {
   "cell_type": "code",
   "execution_count": 2,
   "id": "4f7df668",
   "metadata": {},
   "outputs": [],
   "source": [
    "import pandas as pd\n",
    "import numpy as np\n",
    "import matplotlib.pyplot as plt"
   ]
  },
  {
   "cell_type": "markdown",
   "id": "08c324a7",
   "metadata": {},
   "source": [
    "Загрузим данные из файла \"gender.csv\" и выведим первые 5 строк, чтобы убедится в корректности загрузки файла"
   ]
  },
  {
   "cell_type": "code",
   "execution_count": 3,
   "id": "49af2ce1",
   "metadata": {},
   "outputs": [
    {
     "data": {
      "text/html": [
       "<div>\n",
       "<style scoped>\n",
       "    .dataframe tbody tr th:only-of-type {\n",
       "        vertical-align: middle;\n",
       "    }\n",
       "\n",
       "    .dataframe tbody tr th {\n",
       "        vertical-align: top;\n",
       "    }\n",
       "\n",
       "    .dataframe thead th {\n",
       "        text-align: right;\n",
       "    }\n",
       "</style>\n",
       "<table border=\"1\" class=\"dataframe\">\n",
       "  <thead>\n",
       "    <tr style=\"text-align: right;\">\n",
       "      <th></th>\n",
       "      <th>Количество больничных дней</th>\n",
       "      <th>Возраст</th>\n",
       "      <th>Пол</th>\n",
       "    </tr>\n",
       "  </thead>\n",
       "  <tbody>\n",
       "    <tr>\n",
       "      <th>0</th>\n",
       "      <td>5</td>\n",
       "      <td>39</td>\n",
       "      <td>Ж</td>\n",
       "    </tr>\n",
       "    <tr>\n",
       "      <th>1</th>\n",
       "      <td>4</td>\n",
       "      <td>54</td>\n",
       "      <td>М</td>\n",
       "    </tr>\n",
       "    <tr>\n",
       "      <th>2</th>\n",
       "      <td>4</td>\n",
       "      <td>26</td>\n",
       "      <td>М</td>\n",
       "    </tr>\n",
       "    <tr>\n",
       "      <th>3</th>\n",
       "      <td>5</td>\n",
       "      <td>42</td>\n",
       "      <td>М</td>\n",
       "    </tr>\n",
       "    <tr>\n",
       "      <th>4</th>\n",
       "      <td>4</td>\n",
       "      <td>29</td>\n",
       "      <td>М</td>\n",
       "    </tr>\n",
       "  </tbody>\n",
       "</table>\n",
       "</div>"
      ],
      "text/plain": [
       "   Количество больничных дней  Возраст Пол\n",
       "0                           5       39   Ж\n",
       "1                           4       54   М\n",
       "2                           4       26   М\n",
       "3                           5       42   М\n",
       "4                           4       29   М"
      ]
     },
     "execution_count": 3,
     "metadata": {},
     "output_type": "execute_result"
    }
   ],
   "source": [
    "data = pd.read_csv('gender.csv')\n",
    "data.head()"
   ]
  },
  {
   "cell_type": "markdown",
   "id": "d8ae7f03",
   "metadata": {},
   "source": [
    "Проверим есть ли в файле пропущенные значения"
   ]
  },
  {
   "cell_type": "code",
   "execution_count": 4,
   "id": "f7ed66aa",
   "metadata": {},
   "outputs": [
    {
     "data": {
      "text/plain": [
       "Количество больничных дней    0\n",
       "Возраст                       0\n",
       "Пол                           0\n",
       "dtype: int64"
      ]
     },
     "execution_count": 4,
     "metadata": {},
     "output_type": "execute_result"
    }
   ],
   "source": [
    "data.isna().sum()"
   ]
  },
  {
   "cell_type": "markdown",
   "id": "42b9f5d6",
   "metadata": {},
   "source": [
    "Посмотрим на данные, с помощью метода describe()"
   ]
  },
  {
   "cell_type": "code",
   "execution_count": 5,
   "id": "1eb2889b",
   "metadata": {},
   "outputs": [
    {
     "data": {
      "text/html": [
       "<div>\n",
       "<style scoped>\n",
       "    .dataframe tbody tr th:only-of-type {\n",
       "        vertical-align: middle;\n",
       "    }\n",
       "\n",
       "    .dataframe tbody tr th {\n",
       "        vertical-align: top;\n",
       "    }\n",
       "\n",
       "    .dataframe thead th {\n",
       "        text-align: right;\n",
       "    }\n",
       "</style>\n",
       "<table border=\"1\" class=\"dataframe\">\n",
       "  <thead>\n",
       "    <tr style=\"text-align: right;\">\n",
       "      <th></th>\n",
       "      <th>Количество больничных дней</th>\n",
       "      <th>Возраст</th>\n",
       "    </tr>\n",
       "  </thead>\n",
       "  <tbody>\n",
       "    <tr>\n",
       "      <th>count</th>\n",
       "      <td>237.000000</td>\n",
       "      <td>237.000000</td>\n",
       "    </tr>\n",
       "    <tr>\n",
       "      <th>mean</th>\n",
       "      <td>3.257384</td>\n",
       "      <td>40.181435</td>\n",
       "    </tr>\n",
       "    <tr>\n",
       "      <th>std</th>\n",
       "      <td>1.807821</td>\n",
       "      <td>6.875157</td>\n",
       "    </tr>\n",
       "    <tr>\n",
       "      <th>min</th>\n",
       "      <td>0.000000</td>\n",
       "      <td>23.000000</td>\n",
       "    </tr>\n",
       "    <tr>\n",
       "      <th>25%</th>\n",
       "      <td>2.000000</td>\n",
       "      <td>36.000000</td>\n",
       "    </tr>\n",
       "    <tr>\n",
       "      <th>50%</th>\n",
       "      <td>3.000000</td>\n",
       "      <td>41.000000</td>\n",
       "    </tr>\n",
       "    <tr>\n",
       "      <th>75%</th>\n",
       "      <td>4.000000</td>\n",
       "      <td>45.000000</td>\n",
       "    </tr>\n",
       "    <tr>\n",
       "      <th>max</th>\n",
       "      <td>8.000000</td>\n",
       "      <td>60.000000</td>\n",
       "    </tr>\n",
       "  </tbody>\n",
       "</table>\n",
       "</div>"
      ],
      "text/plain": [
       "       Количество больничных дней     Возраст\n",
       "count                  237.000000  237.000000\n",
       "mean                     3.257384   40.181435\n",
       "std                      1.807821    6.875157\n",
       "min                      0.000000   23.000000\n",
       "25%                      2.000000   36.000000\n",
       "50%                      3.000000   41.000000\n",
       "75%                      4.000000   45.000000\n",
       "max                      8.000000   60.000000"
      ]
     },
     "execution_count": 5,
     "metadata": {},
     "output_type": "execute_result"
    }
   ],
   "source": [
    "data.describe()"
   ]
  },
  {
   "cell_type": "markdown",
   "id": "29485987",
   "metadata": {},
   "source": [
    "Проверим гипотезу, что мужчины пропускают более 2 рабочих дней чаще, чем женщины.\n",
    "Сделаем выборки по заданым условиям. "
   ]
  },
  {
   "cell_type": "code",
   "execution_count": 6,
   "id": "253cb56e",
   "metadata": {},
   "outputs": [],
   "source": [
    "men = data[data['Пол'] == 'М']\n",
    "women = data[data['Пол'] == 'Ж']\n",
    "\n",
    "men_days = men[men['Количество больничных дней'] > 2]\n",
    "women_days = women[women['Количество больничных дней'] > 2]"
   ]
  },
  {
   "cell_type": "markdown",
   "id": "7682f0bd",
   "metadata": {},
   "source": [
    "Посмотрим на их распределения по графику. "
   ]
  },
  {
   "cell_type": "code",
   "execution_count": 7,
   "id": "6cf0d542",
   "metadata": {},
   "outputs": [
    {
     "data": {
      "image/png": "[encoded data removed]",
      "text/plain": [
       "<Figure size 800x600 with 1 Axes>"
      ]
     },
     "metadata": {},
     "output_type": "display_data"
    }
   ],
   "source": [
    "plt.figure(figsize=(8, 6))\n",
    "plt.bar(['М', 'Ж'], [len(men_days), len(women_days)])\n",
    "plt.xlabel('Пол')\n",
    "plt.ylabel('Количество')\n",
    "plt.title('Работники болевшие более 2 дней по гендеру')\n",
    "plt.show()"
   ]
  },
  {
   "cell_type": "markdown",
   "id": "5eb4ee24",
   "metadata": {},
   "source": [
    "С помощью функции ttest_ind из библиотеки scipy.stats выполненим t-теста на независимых выборках и определеним статистическую значимости различий и подтвердим или опровергним нашу гипотезу."
   ]
  },
  {
   "cell_type": "markdown",
   "id": "9df75b94",
   "metadata": {},
   "source": [
    "Зададим alpha - критический уровень статистической значимости, если p-value окажется меньше него - отвегнем гипотезу"
   ]
  },
  {
   "cell_type": "code",
   "execution_count": 8,
   "id": "34c9d1f6",
   "metadata": {},
   "outputs": [],
   "source": [
    "alpha = 0.05"
   ]
  },
  {
   "cell_type": "code",
   "execution_count": 9,
   "id": "87d6b8ce",
   "metadata": {},
   "outputs": [
    {
     "name": "stdout",
     "output_type": "stream",
     "text": [
      "Гипотеза подтверждается: Мужчины пропускают рабочие дни значимо чаще женщин\n"
     ]
    }
   ],
   "source": [
    "from scipy.stats import ttest_ind\n",
    "t_statistic, p_value = ttest_ind(men_days['Количество больничных дней'], women_days['Количество больничных дней'])\n",
    "if p_value < alpha:\n",
    "    print(\"Гипотеза отвергается: Нет значимого различия в количестве пропущенных рабочих дней между мужчинами и женщинами\")\n",
    "else:\n",
    "    print(\"Гипотеза подтверждается: Мужчины пропускают рабочие дни значимо чаще женщин\")"
   ]
  },
  {
   "cell_type": "markdown",
   "id": "e4d845f2",
   "metadata": {},
   "source": [
    "Выведим суммы пропущенных дней по болезням, чтобы убедиться, что мы сделали правильный вывод"
   ]
  },
  {
   "cell_type": "code",
   "execution_count": 10,
   "id": "326e8842",
   "metadata": {},
   "outputs": [
    {
     "name": "stdout",
     "output_type": "stream",
     "text": [
      "Сумма дней пропущенных по болезни у женщин (более 2 дней):284\n",
      "Сумма дней пропущенных по болезни у мужчин (более 2 дней):364\n"
     ]
    }
   ],
   "source": [
    "print(f\"Сумма дней пропущенных по болезни у женщин (более 2 дней):{women_days['Количество больничных дней'].sum()}\") \n",
    "print(f\"Сумма дней пропущенных по болезни у мужчин (более 2 дней):{men_days['Количество больничных дней'].sum()}\")"
   ]
  },
  {
   "cell_type": "markdown",
   "id": "facb3950",
   "metadata": {},
   "source": [
    "Теперь перейдем к проверки второй гипотезы, что работники старше 35 лет пропускают в течение года более 2 рабочих дней по болезни значимо чаще своих более молодых коллег."
   ]
  },
  {
   "cell_type": "markdown",
   "id": "e16e0ae4",
   "metadata": {},
   "source": [
    "Сделаем снова выборки по заданым условиям."
   ]
  },
  {
   "cell_type": "code",
   "execution_count": 11,
   "id": "ab7029e0",
   "metadata": {},
   "outputs": [],
   "source": [
    "older_employees = data[data['Возраст'] > 35]\n",
    "young_employees = data[data['Возраст'] <= 35]\n",
    "\n",
    "older_days = older_employees[older_employees['Количество больничных дней'] > 2]\n",
    "young_days = young_employees[young_employees['Количество больничных дней'] > 2]"
   ]
  },
  {
   "cell_type": "markdown",
   "id": "d9f2563a",
   "metadata": {},
   "source": [
    "Посмотрим на распределения работников разных возрастов по графику."
   ]
  },
  {
   "cell_type": "code",
   "execution_count": 12,
   "id": "a012bd97",
   "metadata": {},
   "outputs": [
    {
     "data": {
      "image/png": "[encoded data removed]",
      "text/plain": [
       "<Figure size 800x600 with 1 Axes>"
      ]
     },
     "metadata": {},
     "output_type": "display_data"
    }
   ],
   "source": [
    "plt.figure(figsize=(8, 6))\n",
    "plt.bar(['Работники старше 35', 'Работники 35 лет и ниже'], [len(older_days), len(young_days)])\n",
    "plt.xlabel('Возраст')\n",
    "plt.ylabel('Количество')\n",
    "plt.title('График по количеству пропущенных по болезни дней (более 2) по возрасту')\n",
    "plt.show()"
   ]
  },
  {
   "cell_type": "markdown",
   "id": "575ba20b",
   "metadata": {},
   "source": [
    "Также с помощью t-test подтвердим или опровергним нашу гипотезу. Параметр alpha оставим тем же."
   ]
  },
  {
   "cell_type": "code",
   "execution_count": 13,
   "id": "ec86bf79",
   "metadata": {},
   "outputs": [
    {
     "name": "stdout",
     "output_type": "stream",
     "text": [
      "Гипотеза подтверждается: Более старые сотрудники пропускаю рабочие дни по болезни чаще\n"
     ]
    }
   ],
   "source": [
    "t_statistic, p_value = ttest_ind(older_days['Количество больничных дней'], young_days['Количество больничных дней'])\n",
    "if p_value < alpha:\n",
    "    print(\"Гипотеза отвергается: Нет значимого различия в количестве пропущенных рабочих дней между старыми и молодыми сотрудниками\")\n",
    "else:\n",
    "    print(\"Гипотеза подтверждается: Более старые сотрудники пропускаю рабочие дни по болезни чаще\")"
   ]
  },
  {
   "cell_type": "markdown",
   "id": "de8dc85a",
   "metadata": {},
   "source": [
    "Выведим суммы пропущенных дней по болезням, чтобы убедиться, что мы сделали правильный вывод"
   ]
  },
  {
   "cell_type": "code",
   "execution_count": 14,
   "id": "cab7d3e7",
   "metadata": {},
   "outputs": [
    {
     "name": "stdout",
     "output_type": "stream",
     "text": [
      "Сумма дней пропущенных по болезни у более старых сотрудников(более 2 дней):488\n",
      "Сумма дней пропущенных по болезни у более молодых сотрудников(более 2 дней):160\n"
     ]
    }
   ],
   "source": [
    "print(f\"Сумма дней пропущенных по болезни у более старых сотрудников(более 2 дней):{older_days['Количество больничных дней'].sum()}\") \n",
    "print(f\"Сумма дней пропущенных по болезни у более молодых сотрудников(более 2 дней):{young_days['Количество больничных дней'].sum()}\")"
   ]
  },
  {
   "cell_type": "markdown",
   "id": "8dff9aca",
   "metadata": {},
   "source": [
    "__Вывод:__\n",
    "1. Мужчины пропускают в течение года более 2 рабочих дней по болезни значимо чаще женщин.\n",
    "2. Работники старше 35 лет пропускают в течение года более 2 рабочих дней по болезни значимо чаще своих более молодых коллег."
   ]
  },
  {
   "cell_type": "code",
   "execution_count": 15,
   "id": "ee60c670",
   "metadata": {},
   "outputs": [],
   "source": [
    "men = data[(data['Пол'] == 'М') & (data['Количество больничных дней'] == 2)]"
   ]
  }
 ],
 "metadata": {
  "kernelspec": {
   "display_name": "Python 3 (ipykernel)",
   "language": "python",
   "name": "python3"
  },
  "language_info": {
   "codemirror_mode": {
    "name": "ipython",
    "version": 3
   },
   "file_extension": ".py",
   "mimetype": "text/x-python",
   "name": "python",
   "nbconvert_exporter": "python",
   "pygments_lexer": "ipython3",
   "version": "3.9.13"
  }
 },
 "nbformat": 4,
 "nbformat_minor": 5
}
